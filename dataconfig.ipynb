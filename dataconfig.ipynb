{
 "cells": [
  {
   "cell_type": "code",
   "execution_count": 18,
   "metadata": {},
   "outputs": [],
   "source": [
    "# get imports\n",
    "import pandas as pd\n",
    "import numpy as np\n",
    "import tensorflow as tf\n",
    "import sklearn as sk\n",
    "import json\n",
    "import json"
   ]
  },
  {
   "cell_type": "code",
   "execution_count": 19,
   "metadata": {},
   "outputs": [],
   "source": [
    "with open(\"keys.json\", 'r') as f:\n",
    "    key = json.loads(f.read())\n",
    "    \n",
    "apikey = key[\"Alphavantage API Key\"]\n",
    "default_path = 'C:\\\\Users\\\\Logan\\\\Desktop\\\\stockbot'"
   ]
  },
  {
   "cell_type": "code",
   "execution_count": 28,
   "metadata": {},
   "outputs": [
    {
     "name": "stdout",
     "output_type": "stream",
     "text": [
      "Input stock ticker: AMC\n",
      "What frequency interval would you like? Choose between '5min', '15min', '30min', and '60min' 5min\n"
     ]
    }
   ],
   "source": [
    "def getInput():\n",
    "    ticker = input(\"Input stock ticker: \")\n",
    "    interval = input(\"What frequency interval would you like? Choose between '5min', '15min', '30min', and '60min' \")\n",
    "    allowedtimevalues = ('5min', '15min', '30min', '60min')\n",
    "    if interval not in allowedtimevalues:\n",
    "        raise Exception(\"Incorrect time frequency interval, please input one of the following: '5min', '15min', '30min', '60min'\")\n",
    "\n",
    "getInput()"
   ]
  },
  {
   "cell_type": "code",
   "execution_count": 29,
   "metadata": {},
   "outputs": [],
   "source": [
    "dataPath = f\"https://www.alphavantage.co/query?function=TIME_SERIES_INTRADAY&symbol={ticker}&interval={interval}&apikey={apikey}&datatype=csv&outputsize=full\""
   ]
  },
  {
   "cell_type": "code",
   "execution_count": 30,
   "metadata": {},
   "outputs": [
    {
     "name": "stdout",
     "output_type": "stream",
     "text": [
      "https://www.alphavantage.co/query?function=TIME_SERIES_INTRADAY&symbol=AMC&interval=5min&apikey=P8ML6OF6F5SGXR0M&datatype=csv&outputsize=full\n"
     ]
    }
   ],
   "source": [
    "print(dataPath)"
   ]
  },
  {
   "cell_type": "code",
   "execution_count": 31,
   "metadata": {},
   "outputs": [],
   "source": [
    "df = pd.read_csv(dataPath)"
   ]
  },
  {
   "cell_type": "code",
   "execution_count": 33,
   "metadata": {},
   "outputs": [
    {
     "name": "stdout",
     "output_type": "stream",
     "text": [
      "<class 'pandas.core.frame.DataFrame'>\n",
      "RangeIndex: 3952 entries, 0 to 3951\n",
      "Data columns (total 6 columns):\n",
      " #   Column     Non-Null Count  Dtype  \n",
      "---  ------     --------------  -----  \n",
      " 0   timestamp  3952 non-null   object \n",
      " 1   open       3952 non-null   float64\n",
      " 2   high       3952 non-null   float64\n",
      " 3   low        3952 non-null   float64\n",
      " 4   close      3952 non-null   float64\n",
      " 5   volume     3952 non-null   int64  \n",
      "dtypes: float64(4), int64(1), object(1)\n",
      "memory usage: 185.4+ KB\n"
     ]
    },
    {
     "data": {
      "text/html": [
       "<div>\n",
       "<style scoped>\n",
       "    .dataframe tbody tr th:only-of-type {\n",
       "        vertical-align: middle;\n",
       "    }\n",
       "\n",
       "    .dataframe tbody tr th {\n",
       "        vertical-align: top;\n",
       "    }\n",
       "\n",
       "    .dataframe thead th {\n",
       "        text-align: right;\n",
       "    }\n",
       "</style>\n",
       "<table border=\"1\" class=\"dataframe\">\n",
       "  <thead>\n",
       "    <tr style=\"text-align: right;\">\n",
       "      <th></th>\n",
       "      <th>timestamp</th>\n",
       "      <th>open</th>\n",
       "      <th>high</th>\n",
       "      <th>low</th>\n",
       "      <th>close</th>\n",
       "      <th>volume</th>\n",
       "    </tr>\n",
       "  </thead>\n",
       "  <tbody>\n",
       "    <tr>\n",
       "      <th>0</th>\n",
       "      <td>2021-05-03 20:00:00</td>\n",
       "      <td>9.68</td>\n",
       "      <td>9.68</td>\n",
       "      <td>9.6599</td>\n",
       "      <td>9.66</td>\n",
       "      <td>9146</td>\n",
       "    </tr>\n",
       "    <tr>\n",
       "      <th>1</th>\n",
       "      <td>2021-05-03 19:55:00</td>\n",
       "      <td>9.67</td>\n",
       "      <td>9.69</td>\n",
       "      <td>9.6700</td>\n",
       "      <td>9.67</td>\n",
       "      <td>8084</td>\n",
       "    </tr>\n",
       "    <tr>\n",
       "      <th>2</th>\n",
       "      <td>2021-05-03 19:50:00</td>\n",
       "      <td>9.68</td>\n",
       "      <td>9.69</td>\n",
       "      <td>9.6700</td>\n",
       "      <td>9.69</td>\n",
       "      <td>3050</td>\n",
       "    </tr>\n",
       "    <tr>\n",
       "      <th>3</th>\n",
       "      <td>2021-05-03 19:45:00</td>\n",
       "      <td>9.69</td>\n",
       "      <td>9.70</td>\n",
       "      <td>9.6800</td>\n",
       "      <td>9.68</td>\n",
       "      <td>5118</td>\n",
       "    </tr>\n",
       "    <tr>\n",
       "      <th>4</th>\n",
       "      <td>2021-05-03 19:40:00</td>\n",
       "      <td>9.69</td>\n",
       "      <td>9.70</td>\n",
       "      <td>9.6800</td>\n",
       "      <td>9.69</td>\n",
       "      <td>7646</td>\n",
       "    </tr>\n",
       "  </tbody>\n",
       "</table>\n",
       "</div>"
      ],
      "text/plain": [
       "             timestamp  open  high     low  close  volume\n",
       "0  2021-05-03 20:00:00  9.68  9.68  9.6599   9.66    9146\n",
       "1  2021-05-03 19:55:00  9.67  9.69  9.6700   9.67    8084\n",
       "2  2021-05-03 19:50:00  9.68  9.69  9.6700   9.69    3050\n",
       "3  2021-05-03 19:45:00  9.69  9.70  9.6800   9.68    5118\n",
       "4  2021-05-03 19:40:00  9.69  9.70  9.6800   9.69    7646"
      ]
     },
     "execution_count": 33,
     "metadata": {},
     "output_type": "execute_result"
    }
   ],
   "source": [
    "df.info()\n",
    "df.head()"
   ]
  },
  {
   "cell_type": "code",
   "execution_count": null,
   "metadata": {},
   "outputs": [],
   "source": []
  }
 ],
 "metadata": {
  "kernelspec": {
   "display_name": "Python 3",
   "language": "python",
   "name": "python3"
  },
  "language_info": {
   "codemirror_mode": {
    "name": "ipython",
    "version": 3
   },
   "file_extension": ".py",
   "mimetype": "text/x-python",
   "name": "python",
   "nbconvert_exporter": "python",
   "pygments_lexer": "ipython3",
   "version": "3.7.4"
  }
 },
 "nbformat": 4,
 "nbformat_minor": 4
}
